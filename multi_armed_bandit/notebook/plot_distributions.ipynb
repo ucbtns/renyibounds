{
 "cells": [
  {
   "cell_type": "code",
   "execution_count": 1,
   "metadata": {},
   "outputs": [],
   "source": [
    "%matplotlib inline  \n",
    "import pandas as pd\n",
    "import numpy as np\n",
    "import matplotlib.pyplot as plt\n",
    "from scipy.interpolate import make_interp_spline, BSpline\n",
    "from pandas.plotting import scatter_matrix\n",
    "import seaborn as sns\n",
    "import matplotlib.animation as animation\n",
    "import matplotlib\n",
    "from IPython.display import HTML\n",
    "import plotly.graph_objects as go  #plotly 4.0.0rc1\n",
    "from plotly.subplots import make_subplots\n",
    "from matplotlib import pyplot\n",
    "import plotly.figure_factory as ff\n",
    "from matplotlib.ticker import FuncFormatter\n",
    "import seaborn as sns\n",
    "import itertools\n",
    "\n",
    "from importlib import reload"
   ]
  },
  {
   "cell_type": "code",
   "execution_count": 2,
   "metadata": {},
   "outputs": [
    {
     "ename": "FileNotFoundError",
     "evalue": "File data_mab.h5 does not exist",
     "output_type": "error",
     "traceback": [
      "\u001b[0;31m---------------------------------------------------------------------------\u001b[0m",
      "\u001b[0;31mFileNotFoundError\u001b[0m                         Traceback (most recent call last)",
      "\u001b[0;32m<ipython-input-2-4dabc820be86>\u001b[0m in \u001b[0;36m<module>\u001b[0;34m\u001b[0m\n\u001b[0;32m----> 1\u001b[0;31m \u001b[0mdf\u001b[0m \u001b[0;34m=\u001b[0m \u001b[0mpd\u001b[0m\u001b[0;34m.\u001b[0m\u001b[0mread_hdf\u001b[0m\u001b[0;34m(\u001b[0m\u001b[0;34m'data_mab.h5'\u001b[0m\u001b[0;34m)\u001b[0m\u001b[0;34m\u001b[0m\u001b[0;34m\u001b[0m\u001b[0m\n\u001b[0m\u001b[1;32m      2\u001b[0m \u001b[0mdf\u001b[0m \u001b[0;34m=\u001b[0m \u001b[0mdf\u001b[0m\u001b[0;34m.\u001b[0m\u001b[0mtranspose\u001b[0m\u001b[0;34m(\u001b[0m\u001b[0;34m)\u001b[0m\u001b[0;34m\u001b[0m\u001b[0;34m\u001b[0m\u001b[0m\n\u001b[1;32m      3\u001b[0m \u001b[0mdf\u001b[0m \u001b[0;34m=\u001b[0m \u001b[0mdf\u001b[0m\u001b[0;34m.\u001b[0m\u001b[0mcumsum\u001b[0m\u001b[0;34m(\u001b[0m\u001b[0;34m)\u001b[0m\u001b[0;34m\u001b[0m\u001b[0;34m\u001b[0m\u001b[0m\n",
      "\u001b[0;32m~/.local/lib/python3.7/site-packages/pandas/io/pytables.py\u001b[0m in \u001b[0;36mread_hdf\u001b[0;34m(path_or_buf, key, mode, errors, where, start, stop, columns, iterator, chunksize, **kwargs)\u001b[0m\n\u001b[1;32m    385\u001b[0m \u001b[0;34m\u001b[0m\u001b[0m\n\u001b[1;32m    386\u001b[0m         \u001b[0;32mif\u001b[0m \u001b[0;32mnot\u001b[0m \u001b[0mexists\u001b[0m\u001b[0;34m:\u001b[0m\u001b[0;34m\u001b[0m\u001b[0;34m\u001b[0m\u001b[0m\n\u001b[0;32m--> 387\u001b[0;31m             \u001b[0;32mraise\u001b[0m \u001b[0mFileNotFoundError\u001b[0m\u001b[0;34m(\u001b[0m\u001b[0;34mf\"File {path_or_buf} does not exist\"\u001b[0m\u001b[0;34m)\u001b[0m\u001b[0;34m\u001b[0m\u001b[0;34m\u001b[0m\u001b[0m\n\u001b[0m\u001b[1;32m    388\u001b[0m \u001b[0;34m\u001b[0m\u001b[0m\n\u001b[1;32m    389\u001b[0m         \u001b[0mstore\u001b[0m \u001b[0;34m=\u001b[0m \u001b[0mHDFStore\u001b[0m\u001b[0;34m(\u001b[0m\u001b[0mpath_or_buf\u001b[0m\u001b[0;34m,\u001b[0m \u001b[0mmode\u001b[0m\u001b[0;34m=\u001b[0m\u001b[0mmode\u001b[0m\u001b[0;34m,\u001b[0m \u001b[0merrors\u001b[0m\u001b[0;34m=\u001b[0m\u001b[0merrors\u001b[0m\u001b[0;34m,\u001b[0m \u001b[0;34m**\u001b[0m\u001b[0mkwargs\u001b[0m\u001b[0;34m)\u001b[0m\u001b[0;34m\u001b[0m\u001b[0;34m\u001b[0m\u001b[0m\n",
      "\u001b[0;31mFileNotFoundError\u001b[0m: File data_mab.h5 does not exist"
     ]
    }
   ],
   "source": [
    "df = pd.read_hdf('data_mab.h5')\n",
    "df = df.transpose()\n",
    "df = df.cumsum()"
   ]
  },
  {
   "cell_type": "code",
   "execution_count": null,
   "metadata": {},
   "outputs": [],
   "source": [
    "idx = df.columns\n",
    "alphas = idx.get_level_values(level='alpha').unique()\n",
    "alphas"
   ]
  },
  {
   "cell_type": "code",
   "execution_count": null,
   "metadata": {},
   "outputs": [],
   "source": []
  },
  {
   "cell_type": "code",
   "execution_count": null,
   "metadata": {},
   "outputs": [],
   "source": [
    "import matplotlib.cm as cm # matplotlib's color map library\n",
    "from matplotlib import rc\n",
    "from mpl_toolkits.axes_grid1.inset_locator import inset_axes"
   ]
  },
  {
   "cell_type": "code",
   "execution_count": null,
   "metadata": {},
   "outputs": [],
   "source": [
    "levels = np.linspace(data_contour.to_numpy().min(),data_contour.to_numpy().max(), num=30)\n",
    "linewidth_contour = 0.2\n",
    "\n",
    "delta1 = 0.2\n",
    "delta2 = 0.2\n",
    "xlist = np.arange(5, 25, delta1)\n",
    "ylist = np.arange(0.001, 5, delta2)\n",
    "x, y = np.meshgrid(xlist, ylist)\n",
    "\n",
    "fig, axes = plt.subplots(1,1,  figsize =(8,8))\n",
    "\n",
    "cpf = axes.contourf(x, y, data_contour.values.tolist(), levels)\n",
    "line_colors1 = ['black' for l in cpf.levels]\n",
    "cp = axes.contour(x, y, data_contour.values.tolist(),\n",
    "                       levels=levels, colors=line_colors1, linewidths=linewidth_contour)\n",
    "axes.clabel(cp, cp.levels[::3], inline=True, fontsize=4)\n",
    "\n",
    "axes.set_xlabel('mu_q')\n",
    "axes.set_ylabel('sigma_q')\n",
    "\n",
    "axins1 = inset_axes(axes,\n",
    "                   width=\"15%\",  # width = 5% of parent_bbox width\n",
    "                   height=\"100%\",  # height : 50%\n",
    "                   loc='lower left',\n",
    "                   bbox_to_anchor=(1.05, 0., 1, 1),\n",
    "                   bbox_transform=axes.transAxes,\n",
    "                   borderpad=0,\n",
    "                   )\n",
    "plt.colorbar(cpf,label='-bound', cax=axins1)  # draw colorbar\n"
   ]
  },
  {
   "cell_type": "code",
   "execution_count": null,
   "metadata": {},
   "outputs": [],
   "source": [
    "samples0 = list(np.load('../samples_arm_0.npy'))\n",
    "samples1 = np.load('../samples_arm_1.npy')\n",
    "samples2 = np.load('../samples_arm_2.npy')\n"
   ]
  },
  {
   "cell_type": "code",
   "execution_count": null,
   "metadata": {},
   "outputs": [],
   "source": [
    "rew0 = list(np.load('../rew_arm_0.npy'))\n",
    "rew1 = list(np.load('../rew_arm_1.npy'))\n",
    "rew2 = list(np.load('../rew_arm_2.npy'))\n",
    "\n",
    "fig = plt.hist(rew0,  density=True, alpha=1, bins=90, label='rew0')\n",
    "fig = plt.hist(rew1,  density=True, alpha=1, bins=90, label='rew1')\n",
    "fig = plt.hist(rew2,  density=True, alpha=1, bins=90, label='rew2')\n",
    "\n",
    "plt.legend(loc='upper right')\n"
   ]
  },
  {
   "cell_type": "code",
   "execution_count": null,
   "metadata": {
    "scrolled": false
   },
   "outputs": [],
   "source": [
    "# Plot prior for each arm\n",
    "ps0 = list(np.load('../ps_arm_0.npy'))\n",
    "ps1 = list(np.load('../ps_arm_1.npy'))\n",
    "ps2 = list(np.load('../ps_arm_2.npy'))\n",
    "\n",
    "fig, axes = plt.subplots(3)\n",
    "\n",
    "axes[0].scatter(samples0, ps0)\n",
    "axes[1].scatter(samples1, ps1)\n",
    "axes[2].scatter(samples2, ps2)"
   ]
  },
  {
   "cell_type": "code",
   "execution_count": null,
   "metadata": {},
   "outputs": [],
   "source": [
    "# Plot likelihood for each arm\n",
    "pos0 = list(np.load('../pos_arm_0.npy'))\n",
    "pos1 = list(np.load('../pos_arm_1.npy'))\n",
    "pos2 = list(np.load('../pos_arm_2.npy'))\n",
    "\n",
    "fig, axes = plt.subplots(3)\n",
    "\n",
    "axes[0].scatter(samples0, pos0)\n",
    "axes[1].scatter(samples1, pos1)\n",
    "axes[2].scatter(samples2, pos2)"
   ]
  },
  {
   "cell_type": "code",
   "execution_count": null,
   "metadata": {},
   "outputs": [],
   "source": [
    "# Plot joint for each arm\n",
    "pso0 = list(np.load('../pso_arm_0.npy'))\n",
    "pso1 = list(np.load('../pso_arm_1.npy'))\n",
    "pso2 = list(np.load('../pso_arm_2.npy'))\n",
    "\n",
    "fig, axes = plt.subplots(3)\n",
    "\n",
    "axes[0].scatter(samples0, pso0)\n",
    "axes[1].scatter(samples1, pso1)\n",
    "axes[2].scatter(samples2, pso2)\n"
   ]
  },
  {
   "cell_type": "code",
   "execution_count": null,
   "metadata": {},
   "outputs": [],
   "source": [
    "# Plot true posterior for arm 1\n",
    "import scipy.stats as stats\n",
    "import math\n",
    "\n",
    "muinf = 16.27\n",
    "varinf = 2\n",
    "\n",
    "mu10 = 10.3\n",
    "var10= 1.5\n",
    "\n",
    "mu2 = 10.2\n",
    "var2 = 1.8\n",
    "\n",
    "mu1 = 10.1\n",
    "var1 = 1.9\n",
    "\n",
    "mu05 = 10.7\n",
    "var05 = 4.2\n",
    "\n",
    "\n",
    "mu0 = 9.7\n",
    "var0 = 53\n",
    "\n",
    "#pso2 = pso\n",
    "mus = [muinf, mu10, mu2, mu1, mu05, mu0]\n",
    "varss = [varinf, var10, var2, var1, var05, var0]\n",
    "\n",
    "data = pd.DataFrame()\n",
    "\n",
    "\n",
    "for it in range(len(mus)):\n",
    "    x = np.random.randn(100000) * np.sqrt(varss[it]) + mus[it]\n",
    "    data['col_'+str(it)] = x    #plt.plot(x, stats.norm.pdf(x, mus[it], sigma))\n",
    "\n",
    "fig = plt.scatter(samples0, np.multiply(pso0, 1/0.0528), linewidths=0.00001)\n"
   ]
  },
  {
   "cell_type": "code",
   "execution_count": null,
   "metadata": {},
   "outputs": [],
   "source": [
    "# Plot true posterior and variational posteriors for arm 1 and different alpha\n",
    "\n",
    "labels = [r'$\\alpha \\rightarrow +\\infty$',r'$\\alpha = 10$', r'$\\alpha = 2$', r'$\\alpha \\rightarrow 1^-$',\n",
    "            r'$\\alpha = 0.5$', r'$\\alpha \\rightarrow 0^+$']\n",
    "f, ax = plt.subplots(1, 1, figsize=(6,4))\n",
    "\n",
    "for it in range(len(mus)):\n",
    "    sns.distplot(data['col_'+str(it)], hist = False, kde = True,\n",
    "                     kde_kws = {'shade': True, 'linewidth': 3}, \n",
    "                      label = labels[it])\n",
    "sns.distplot([1], hist = False, kde = True,\n",
    "                 kde_kws = {'shade': True, 'linewidth': 3}, \n",
    "                  label = 'True posterior', color='black')    \n",
    "plt.scatter(samples0, np.multiply(pso0, 1/0.0528), color='black', label='s')\n",
    "\n",
    "    \n",
    "plt.legend([r'$\\alpha \\rightarrow +\\infty$',r'$\\alpha = 10$', r'$\\alpha = 2$', r'$\\alpha \\rightarrow 1^-$',\n",
    "            r'$\\alpha = 0.5$', r'$\\alpha \\rightarrow 0^+$', 'True posterior'], bbox_to_anchor=(1.05, 1), loc=2, borderaxespad=0.)\n",
    "ax.set_xlim([0,25])\n",
    "ax.set(xlabel='s', ylabel=r'$q(s)$', title='Variational approximation')\n",
    "\n",
    "f.tight_layout(pad=1.0)\n",
    "f.savefig(base_path+'var_posterior.pdf', bbox_inches='tight', pad_inches=0)\n"
   ]
  }
 ],
 "metadata": {
  "kernelspec": {
   "display_name": "Python 3",
   "language": "python",
   "name": "python3"
  },
  "language_info": {
   "codemirror_mode": {
    "name": "ipython",
    "version": 3
   },
   "file_extension": ".py",
   "mimetype": "text/x-python",
   "name": "python",
   "nbconvert_exporter": "python",
   "pygments_lexer": "ipython3",
   "version": "3.7.4"
  }
 },
 "nbformat": 4,
 "nbformat_minor": 5
}
